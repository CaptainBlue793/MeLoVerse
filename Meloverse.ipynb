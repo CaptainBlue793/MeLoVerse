{
 "nbformat": 4,
 "nbformat_minor": 0,
 "metadata": {
  "colab": {
   "provenance": [],
   "gpuType": "T4"
  },
  "kernelspec": {
   "name": "python3",
   "language": "python",
   "display_name": "Python 3 (ipykernel)"
  },
  "language_info": {
   "name": "python"
  },
  "accelerator": "GPU"
 },
 "cells": [
  {
   "cell_type": "markdown",
   "source": [
    "# **MELOVERSE** -> Music Recommendation System"
   ],
   "metadata": {
    "id": "EnB6ex3c_sSc"
   }
  },
  {
   "cell_type": "markdown",
   "source": [
    "\n",
    "\n",
    "\n",
    "*   **Type**: Content Based Recommendation System\n",
    "*   **Dataset**: Spotify Music Dataset\n",
    "*   **Number of Songs**: 57650\n",
    "*   **Reduced Dataset Songs**: 10000\n",
    "\n",
    "\n",
    "\n",
    "\n",
    "\n"
   ],
   "metadata": {
    "id": "0gZr2dL7_0At"
   }
  },
  {
   "cell_type": "markdown",
   "source": [
    "### However, we will take **10000** songs *sampled randomly* in order to reduce computation time"
   ],
   "metadata": {
    "id": "rK2yuiDFIvuN"
   }
  },
  {
   "cell_type": "code",
   "source": [
    "# Importing packages\n",
    "import pandas as pd\n",
    "import spacy\n",
    "import sklearn\n",
    "import pickle"
   ],
   "metadata": {
    "id": "5gh9jdK7ATTs",
    "ExecuteTime": {
     "end_time": "2024-03-10T00:11:21.644940Z",
     "start_time": "2024-03-10T00:11:17.080087Z"
    }
   },
   "execution_count": 1,
   "outputs": []
  },
  {
   "cell_type": "code",
   "source": [
    "# Load SpaCy English model\n",
    "nlp = spacy.load(\"en_core_web_sm\")"
   ],
   "metadata": {
    "id": "w4MRX3NRThuH",
    "ExecuteTime": {
     "end_time": "2024-03-10T00:11:22.402297Z",
     "start_time": "2024-03-10T00:11:21.645947Z"
    }
   },
   "execution_count": 2,
   "outputs": [
    {
     "ename": "OSError",
     "evalue": "[E050] Can't find model 'en_core_web_sm'. It doesn't seem to be a Python package or a valid path to a data directory.",
     "output_type": "error",
     "traceback": [
      "\u001B[1;31m---------------------------------------------------------------------------\u001B[0m",
      "\u001B[1;31mOSError\u001B[0m                                   Traceback (most recent call last)",
      "Cell \u001B[1;32mIn[2], line 2\u001B[0m\n\u001B[0;32m      1\u001B[0m \u001B[38;5;66;03m# Load SpaCy English model\u001B[39;00m\n\u001B[1;32m----> 2\u001B[0m nlp \u001B[38;5;241m=\u001B[39m \u001B[43mspacy\u001B[49m\u001B[38;5;241;43m.\u001B[39;49m\u001B[43mload\u001B[49m\u001B[43m(\u001B[49m\u001B[38;5;124;43m\"\u001B[39;49m\u001B[38;5;124;43men_core_web_sm\u001B[39;49m\u001B[38;5;124;43m\"\u001B[39;49m\u001B[43m)\u001B[49m\n",
      "File \u001B[1;32m~\\PycharmProjects\\Natural Langauge Processing\\.venv\\Lib\\site-packages\\spacy\\__init__.py:51\u001B[0m, in \u001B[0;36mload\u001B[1;34m(name, vocab, disable, enable, exclude, config)\u001B[0m\n\u001B[0;32m     27\u001B[0m \u001B[38;5;28;01mdef\u001B[39;00m \u001B[38;5;21mload\u001B[39m(\n\u001B[0;32m     28\u001B[0m     name: Union[\u001B[38;5;28mstr\u001B[39m, Path],\n\u001B[0;32m     29\u001B[0m     \u001B[38;5;241m*\u001B[39m,\n\u001B[1;32m   (...)\u001B[0m\n\u001B[0;32m     34\u001B[0m     config: Union[Dict[\u001B[38;5;28mstr\u001B[39m, Any], Config] \u001B[38;5;241m=\u001B[39m util\u001B[38;5;241m.\u001B[39mSimpleFrozenDict(),\n\u001B[0;32m     35\u001B[0m ) \u001B[38;5;241m-\u001B[39m\u001B[38;5;241m>\u001B[39m Language:\n\u001B[0;32m     36\u001B[0m \u001B[38;5;250m    \u001B[39m\u001B[38;5;124;03m\"\"\"Load a spaCy model from an installed package or a local path.\u001B[39;00m\n\u001B[0;32m     37\u001B[0m \n\u001B[0;32m     38\u001B[0m \u001B[38;5;124;03m    name (str): Package name or model path.\u001B[39;00m\n\u001B[1;32m   (...)\u001B[0m\n\u001B[0;32m     49\u001B[0m \u001B[38;5;124;03m    RETURNS (Language): The loaded nlp object.\u001B[39;00m\n\u001B[0;32m     50\u001B[0m \u001B[38;5;124;03m    \"\"\"\u001B[39;00m\n\u001B[1;32m---> 51\u001B[0m     \u001B[38;5;28;01mreturn\u001B[39;00m \u001B[43mutil\u001B[49m\u001B[38;5;241;43m.\u001B[39;49m\u001B[43mload_model\u001B[49m\u001B[43m(\u001B[49m\n\u001B[0;32m     52\u001B[0m \u001B[43m        \u001B[49m\u001B[43mname\u001B[49m\u001B[43m,\u001B[49m\n\u001B[0;32m     53\u001B[0m \u001B[43m        \u001B[49m\u001B[43mvocab\u001B[49m\u001B[38;5;241;43m=\u001B[39;49m\u001B[43mvocab\u001B[49m\u001B[43m,\u001B[49m\n\u001B[0;32m     54\u001B[0m \u001B[43m        \u001B[49m\u001B[43mdisable\u001B[49m\u001B[38;5;241;43m=\u001B[39;49m\u001B[43mdisable\u001B[49m\u001B[43m,\u001B[49m\n\u001B[0;32m     55\u001B[0m \u001B[43m        \u001B[49m\u001B[43menable\u001B[49m\u001B[38;5;241;43m=\u001B[39;49m\u001B[43menable\u001B[49m\u001B[43m,\u001B[49m\n\u001B[0;32m     56\u001B[0m \u001B[43m        \u001B[49m\u001B[43mexclude\u001B[49m\u001B[38;5;241;43m=\u001B[39;49m\u001B[43mexclude\u001B[49m\u001B[43m,\u001B[49m\n\u001B[0;32m     57\u001B[0m \u001B[43m        \u001B[49m\u001B[43mconfig\u001B[49m\u001B[38;5;241;43m=\u001B[39;49m\u001B[43mconfig\u001B[49m\u001B[43m,\u001B[49m\n\u001B[0;32m     58\u001B[0m \u001B[43m    \u001B[49m\u001B[43m)\u001B[49m\n",
      "File \u001B[1;32m~\\PycharmProjects\\Natural Langauge Processing\\.venv\\Lib\\site-packages\\spacy\\util.py:472\u001B[0m, in \u001B[0;36mload_model\u001B[1;34m(name, vocab, disable, enable, exclude, config)\u001B[0m\n\u001B[0;32m    470\u001B[0m \u001B[38;5;28;01mif\u001B[39;00m name \u001B[38;5;129;01min\u001B[39;00m OLD_MODEL_SHORTCUTS:\n\u001B[0;32m    471\u001B[0m     \u001B[38;5;28;01mraise\u001B[39;00m \u001B[38;5;167;01mIOError\u001B[39;00m(Errors\u001B[38;5;241m.\u001B[39mE941\u001B[38;5;241m.\u001B[39mformat(name\u001B[38;5;241m=\u001B[39mname, full\u001B[38;5;241m=\u001B[39mOLD_MODEL_SHORTCUTS[name]))  \u001B[38;5;66;03m# type: ignore[index]\u001B[39;00m\n\u001B[1;32m--> 472\u001B[0m \u001B[38;5;28;01mraise\u001B[39;00m \u001B[38;5;167;01mIOError\u001B[39;00m(Errors\u001B[38;5;241m.\u001B[39mE050\u001B[38;5;241m.\u001B[39mformat(name\u001B[38;5;241m=\u001B[39mname))\n",
      "\u001B[1;31mOSError\u001B[0m: [E050] Can't find model 'en_core_web_sm'. It doesn't seem to be a Python package or a valid path to a data directory."
     ]
    }
   ]
  },
  {
   "cell_type": "code",
   "source": [
    "# Load the music dataset\n",
    "MusicSet=pd.read_csv('spotify_millsongdata.csv')"
   ],
   "metadata": {
    "id": "AM1okcBJAkgF",
    "ExecuteTime": {
     "end_time": "2024-03-10T00:11:22.404502Z",
     "start_time": "2024-03-10T00:11:22.403493Z"
    }
   },
   "execution_count": null,
   "outputs": []
  },
  {
   "cell_type": "code",
   "source": [
    "MusicSet.head(5)"
   ],
   "metadata": {
    "colab": {
     "base_uri": "https://localhost:8080/",
     "height": 206
    },
    "id": "_SMzhbVDEyQK",
    "outputId": "d4637c05-1efd-4d74-eabb-d53b9bee0c48",
    "ExecuteTime": {
     "end_time": "2024-03-10T00:11:22.405502Z",
     "start_time": "2024-03-10T00:11:22.405502Z"
    }
   },
   "execution_count": null,
   "outputs": []
  },
  {
   "cell_type": "code",
   "source": [
    "MusicSet.describe()"
   ],
   "metadata": {
    "colab": {
     "base_uri": "https://localhost:8080/",
     "height": 175
    },
    "id": "UxIe4SGgE2ba",
    "outputId": "5bc71fa9-f757-4fce-aa84-26da873c576f",
    "ExecuteTime": {
     "start_time": "2024-03-10T00:11:22.406504Z"
    }
   },
   "execution_count": null,
   "outputs": []
  },
  {
   "cell_type": "code",
   "source": [
    "# Look for MISSING Values\n",
    "MusicSet.isnull().sum()"
   ],
   "metadata": {
    "id": "XUWTvnAT4UCC",
    "colab": {
     "base_uri": "https://localhost:8080/"
    },
    "outputId": "15aab0eb-e7de-4d51-cc04-8e15ecdc0ad8",
    "ExecuteTime": {
     "start_time": "2024-03-10T00:11:22.408502Z"
    }
   },
   "execution_count": null,
   "outputs": []
  },
  {
   "cell_type": "code",
   "source": [
    "# Remove the Link Column as it is not needed\n",
    "MusicSet=MusicSet.sample(10000).drop('link',axis=1).reset_index(drop=True)"
   ],
   "metadata": {
    "id": "24qF96Hx45hK",
    "ExecuteTime": {
     "start_time": "2024-03-10T00:11:22.409503Z"
    }
   },
   "execution_count": null,
   "outputs": []
  },
  {
   "cell_type": "code",
   "source": [
    "MusicSet.shape"
   ],
   "metadata": {
    "colab": {
     "base_uri": "https://localhost:8080/"
    },
    "id": "JPBjG_TH_xHP",
    "outputId": "726cab84-96c3-466b-db73-918376e650ab"
   },
   "execution_count": null,
   "outputs": []
  },
  {
   "cell_type": "code",
   "source": [
    "# Let us look at one sample case -> The Lyrics of one song\n",
    "MusicSet['text'][0]"
   ],
   "metadata": {
    "id": "bh2yTrmpWbtp",
    "colab": {
     "base_uri": "https://localhost:8080/",
     "height": 144
    },
    "outputId": "8369d0bf-54c2-4b92-909d-74d2416f13af"
   },
   "execution_count": null,
   "outputs": []
  },
  {
   "cell_type": "code",
   "source": [
    "# Text Preprocessing\n",
    "MusicSet['text']=MusicSet['text'].str.lower().replace(r'^\\w\\s', ' ').replace(r'\\n',' ',regex=True)"
   ],
   "metadata": {
    "id": "8wsdxOpx--2d"
   },
   "execution_count": null,
   "outputs": []
  },
  {
   "cell_type": "code",
   "source": [
    "MusicSet.head(5)"
   ],
   "metadata": {
    "colab": {
     "base_uri": "https://localhost:8080/",
     "height": 206
    },
    "id": "mPIZH9iPB5ok",
    "outputId": "5328c813-2df1-4b47-e258-134d1a5afc23"
   },
   "execution_count": null,
   "outputs": []
  },
  {
   "cell_type": "code",
   "source": [
    "MusicSet.tail(5)"
   ],
   "metadata": {
    "colab": {
     "base_uri": "https://localhost:8080/",
     "height": 206
    },
    "id": "mYPvxt_NJSTZ",
    "outputId": "e969cfc2-5bdb-4fd4-d4bd-382393be3bfc"
   },
   "execution_count": null,
   "outputs": []
  },
  {
   "cell_type": "code",
   "source": [
    "# Lemmatization\n",
    "\n",
    "def lemmatize(text):\n",
    "    doc = nlp(text)\n",
    "    lemmatized_text = [token.lemma_ for token in doc]\n",
    "    return \" \".join(lemmatized_text)\n",
    "\n",
    "MusicSet['text'].apply(lambda x: lemmatize(x))"
   ],
   "metadata": {
    "colab": {
     "base_uri": "https://localhost:8080/"
    },
    "id": "xWBZBfhtAyX4",
    "outputId": "d2e6a75a-513a-4eab-8adf-4e57bcd4c673"
   },
   "execution_count": null,
   "outputs": []
  },
  {
   "cell_type": "code",
   "source": [
    "\"\"\"Vector Semantics -> Using Vectors -> BOW, Word2Vec, TF-IDF\"\"\"\n",
    "\n",
    "# We will use TF-IDF word vectorizer\n",
    "\n",
    "from sklearn.feature_extraction.text import TfidfVectorizer\n",
    "from sklearn.metrics.pairwise import cosine_similarity\n",
    "\n",
    "obj=TfidfVectorizer(analyzer='word',stop_words='english')\n",
    "matrix=obj.fit_transform(MusicSet['text'])"
   ],
   "metadata": {
    "id": "0vOSXBkDEWih",
    "ExecuteTime": {
     "start_time": "2024-03-10T00:11:22.424307Z"
    }
   },
   "execution_count": null,
   "outputs": []
  },
  {
   "cell_type": "code",
   "source": [
    "# Measure the cosine similarity for the vectors\n",
    "similarity=cosine_similarity(matrix)\n",
    "similarity[0]"
   ],
   "metadata": {
    "colab": {
     "base_uri": "https://localhost:8080/"
    },
    "id": "jJtcQVdqGKel",
    "outputId": "9f42963e-7024-44ee-aa33-e449d78ce731",
    "ExecuteTime": {
     "start_time": "2024-03-10T00:11:22.425307Z"
    }
   },
   "execution_count": null,
   "outputs": []
  },
  {
   "cell_type": "code",
   "source": [
    "MusicSet[MusicSet['song']==\"When A Child Is Born\"]"
   ],
   "metadata": {
    "colab": {
     "base_uri": "https://localhost:8080/",
     "height": 81
    },
    "id": "uFRX0OquGrkK",
    "outputId": "e000c690-4305-4bb8-d9dd-a65df84ea951",
    "ExecuteTime": {
     "start_time": "2024-03-10T00:11:22.426308Z"
    }
   },
   "execution_count": null,
   "outputs": []
  },
  {
   "cell_type": "code",
   "source": [
    "# Recommender Function -> Recommend 20 songs\n",
    "def recommend(song):\n",
    "    index=MusicSet[MusicSet['song']==song].index[0]\n",
    "    # Sort the nearest distances\n",
    "    distances=sorted(list(enumerate(similarity[index])),reverse=True,key=lambda x:x[1])\n",
    "\n",
    "    #Append the 20 most common songs\n",
    "    songs=[]\n",
    "    for dist in distances[1:21]:\n",
    "        songs.append(MusicSet.iloc[dist[0]].song)\n",
    "\n",
    "    return songs"
   ],
   "metadata": {
    "id": "-DVM2tLfHAdl",
    "ExecuteTime": {
     "start_time": "2024-03-10T00:11:22.428309Z"
    }
   },
   "execution_count": null,
   "outputs": []
  },
  {
   "cell_type": "code",
   "source": [
    "# Let us test one\n",
    "recommend('When A Child Is Born')"
   ],
   "metadata": {
    "colab": {
     "base_uri": "https://localhost:8080/"
    },
    "id": "_p3acRjMIKIe",
    "outputId": "8ccd2861-b126-4db5-ac1a-692601c044a9",
    "ExecuteTime": {
     "start_time": "2024-03-10T00:11:22.429306Z"
    }
   },
   "execution_count": null,
   "outputs": []
  },
  {
   "cell_type": "code",
   "source": [
    "# Storing the data in a pickle file\n",
    "pickle.dump(similarity, open('similarity.pkl','wb'))\n",
    "pickle.dump(MusicSet, open('MusicSet.pkl','wb'))"
   ],
   "metadata": {
    "id": "XiGdqhyIIQjF",
    "ExecuteTime": {
     "start_time": "2024-03-10T00:11:22.429306Z"
    }
   },
   "execution_count": null,
   "outputs": []
  },
  {
   "cell_type": "markdown",
   "source": [
    "### THE END"
   ],
   "metadata": {
    "id": "0EysXi1uIphW"
   }
  }
 ]
}
